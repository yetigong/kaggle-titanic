{
 "cells": [
  {
   "cell_type": "code",
   "execution_count": 1,
   "id": "7d09fd15",
   "metadata": {
    "_cell_guid": "b1076dfc-b9ad-4769-8c92-a6c4dae69d19",
    "_uuid": "8f2839f25d086af736a60e9eeb907d3b93b6e0e5",
    "execution": {
     "iopub.execute_input": "2024-04-05T06:35:22.610580Z",
     "iopub.status.busy": "2024-04-05T06:35:22.609968Z",
     "iopub.status.idle": "2024-04-05T06:35:23.614982Z",
     "shell.execute_reply": "2024-04-05T06:35:23.613746Z"
    },
    "papermill": {
     "duration": 1.017832,
     "end_time": "2024-04-05T06:35:23.618118",
     "exception": false,
     "start_time": "2024-04-05T06:35:22.600286",
     "status": "completed"
    },
    "tags": []
   },
   "outputs": [
    {
     "name": "stdout",
     "output_type": "stream",
     "text": [
      "/kaggle/input/titanic/train.csv\n",
      "/kaggle/input/titanic/test.csv\n",
      "/kaggle/input/titanic/gender_submission.csv\n"
     ]
    }
   ],
   "source": [
    "# This Python 3 environment comes with many helpful analytics libraries installed\n",
    "# It is defined by the kaggle/python Docker image: https://github.com/kaggle/docker-python\n",
    "# For example, here's several helpful packages to load\n",
    "\n",
    "import numpy as np # linear algebra\n",
    "import pandas as pd # data processing, CSV file I/O (e.g. pd.read_csv)\n",
    "\n",
    "# Input data files are available in the read-only \"../input/\" directory\n",
    "# For example, running this (by clicking run or pressing Shift+Enter) will list all files under the input directory\n",
    "\n",
    "import os\n",
    "for dirname, _, filenames in os.walk('/kaggle/input'):\n",
    "    for filename in filenames:\n",
    "        print(os.path.join(dirname, filename))\n",
    "\n",
    "# You can write up to 20GB to the current directory (/kaggle/working/) that gets preserved as output when you create a version using \"Save & Run All\" \n",
    "# You can also write temporary files to /kaggle/temp/, but they won't be saved outside of the current session"
   ]
  },
  {
   "cell_type": "code",
   "execution_count": 2,
   "id": "19e059a8",
   "metadata": {
    "execution": {
     "iopub.execute_input": "2024-04-05T06:35:23.635849Z",
     "iopub.status.busy": "2024-04-05T06:35:23.635194Z",
     "iopub.status.idle": "2024-04-05T06:35:23.680255Z",
     "shell.execute_reply": "2024-04-05T06:35:23.679033Z"
    },
    "papermill": {
     "duration": 0.057919,
     "end_time": "2024-04-05T06:35:23.683774",
     "exception": false,
     "start_time": "2024-04-05T06:35:23.625855",
     "status": "completed"
    },
    "tags": []
   },
   "outputs": [
    {
     "name": "stdout",
     "output_type": "stream",
     "text": [
      "     PassengerId  Survived  Pclass  \\\n",
      "1              2         1       1   \n",
      "3              4         1       1   \n",
      "6              7         0       1   \n",
      "10            11         1       3   \n",
      "11            12         1       1   \n",
      "..           ...       ...     ...   \n",
      "871          872         1       1   \n",
      "872          873         0       1   \n",
      "879          880         1       1   \n",
      "887          888         1       1   \n",
      "889          890         1       1   \n",
      "\n",
      "                                                  Name     Sex   Age  SibSp  \\\n",
      "1    Cumings, Mrs. John Bradley (Florence Briggs Th...  female  38.0      1   \n",
      "3         Futrelle, Mrs. Jacques Heath (Lily May Peel)  female  35.0      1   \n",
      "6                              McCarthy, Mr. Timothy J    male  54.0      0   \n",
      "10                     Sandstrom, Miss. Marguerite Rut  female   4.0      1   \n",
      "11                            Bonnell, Miss. Elizabeth  female  58.0      0   \n",
      "..                                                 ...     ...   ...    ...   \n",
      "871   Beckwith, Mrs. Richard Leonard (Sallie Monypeny)  female  47.0      1   \n",
      "872                           Carlsson, Mr. Frans Olof    male  33.0      0   \n",
      "879      Potter, Mrs. Thomas Jr (Lily Alexenia Wilson)  female  56.0      0   \n",
      "887                       Graham, Miss. Margaret Edith  female  19.0      0   \n",
      "889                              Behr, Mr. Karl Howell    male  26.0      0   \n",
      "\n",
      "     Parch    Ticket     Fare        Cabin Embarked  \n",
      "1        0  PC 17599  71.2833          C85        C  \n",
      "3        0    113803  53.1000         C123        S  \n",
      "6        0     17463  51.8625          E46        S  \n",
      "10       1   PP 9549  16.7000           G6        S  \n",
      "11       0    113783  26.5500         C103        S  \n",
      "..     ...       ...      ...          ...      ...  \n",
      "871      1     11751  52.5542          D35        S  \n",
      "872      0       695   5.0000  B51 B53 B55        S  \n",
      "879      1     11767  83.1583          C50        C  \n",
      "887      0    112053  30.0000          B42        S  \n",
      "889      0    111369  30.0000         C148        C  \n",
      "\n",
      "[204 rows x 12 columns]\n"
     ]
    }
   ],
   "source": [
    "train_data = pd.read_csv(\"/kaggle/input/titanic/train.csv\")\n",
    "train_data.head()\n",
    "none_age = train_data.loc[train_data.Cabin.notna()]\n",
    "print(none_age)"
   ]
  },
  {
   "cell_type": "code",
   "execution_count": 3,
   "id": "5eeb105a",
   "metadata": {
    "execution": {
     "iopub.execute_input": "2024-04-05T06:35:23.701511Z",
     "iopub.status.busy": "2024-04-05T06:35:23.701054Z",
     "iopub.status.idle": "2024-04-05T06:35:23.729380Z",
     "shell.execute_reply": "2024-04-05T06:35:23.728097Z"
    },
    "papermill": {
     "duration": 0.040342,
     "end_time": "2024-04-05T06:35:23.732527",
     "exception": false,
     "start_time": "2024-04-05T06:35:23.692185",
     "status": "completed"
    },
    "tags": []
   },
   "outputs": [
    {
     "data": {
      "text/html": [
       "<div>\n",
       "<style scoped>\n",
       "    .dataframe tbody tr th:only-of-type {\n",
       "        vertical-align: middle;\n",
       "    }\n",
       "\n",
       "    .dataframe tbody tr th {\n",
       "        vertical-align: top;\n",
       "    }\n",
       "\n",
       "    .dataframe thead th {\n",
       "        text-align: right;\n",
       "    }\n",
       "</style>\n",
       "<table border=\"1\" class=\"dataframe\">\n",
       "  <thead>\n",
       "    <tr style=\"text-align: right;\">\n",
       "      <th></th>\n",
       "      <th>PassengerId</th>\n",
       "      <th>Pclass</th>\n",
       "      <th>Name</th>\n",
       "      <th>Sex</th>\n",
       "      <th>Age</th>\n",
       "      <th>SibSp</th>\n",
       "      <th>Parch</th>\n",
       "      <th>Ticket</th>\n",
       "      <th>Fare</th>\n",
       "      <th>Cabin</th>\n",
       "      <th>Embarked</th>\n",
       "    </tr>\n",
       "  </thead>\n",
       "  <tbody>\n",
       "    <tr>\n",
       "      <th>0</th>\n",
       "      <td>892</td>\n",
       "      <td>3</td>\n",
       "      <td>Kelly, Mr. James</td>\n",
       "      <td>male</td>\n",
       "      <td>34.5</td>\n",
       "      <td>0</td>\n",
       "      <td>0</td>\n",
       "      <td>330911</td>\n",
       "      <td>7.8292</td>\n",
       "      <td>NaN</td>\n",
       "      <td>Q</td>\n",
       "    </tr>\n",
       "    <tr>\n",
       "      <th>1</th>\n",
       "      <td>893</td>\n",
       "      <td>3</td>\n",
       "      <td>Wilkes, Mrs. James (Ellen Needs)</td>\n",
       "      <td>female</td>\n",
       "      <td>47.0</td>\n",
       "      <td>1</td>\n",
       "      <td>0</td>\n",
       "      <td>363272</td>\n",
       "      <td>7.0000</td>\n",
       "      <td>NaN</td>\n",
       "      <td>S</td>\n",
       "    </tr>\n",
       "    <tr>\n",
       "      <th>2</th>\n",
       "      <td>894</td>\n",
       "      <td>2</td>\n",
       "      <td>Myles, Mr. Thomas Francis</td>\n",
       "      <td>male</td>\n",
       "      <td>62.0</td>\n",
       "      <td>0</td>\n",
       "      <td>0</td>\n",
       "      <td>240276</td>\n",
       "      <td>9.6875</td>\n",
       "      <td>NaN</td>\n",
       "      <td>Q</td>\n",
       "    </tr>\n",
       "    <tr>\n",
       "      <th>3</th>\n",
       "      <td>895</td>\n",
       "      <td>3</td>\n",
       "      <td>Wirz, Mr. Albert</td>\n",
       "      <td>male</td>\n",
       "      <td>27.0</td>\n",
       "      <td>0</td>\n",
       "      <td>0</td>\n",
       "      <td>315154</td>\n",
       "      <td>8.6625</td>\n",
       "      <td>NaN</td>\n",
       "      <td>S</td>\n",
       "    </tr>\n",
       "    <tr>\n",
       "      <th>4</th>\n",
       "      <td>896</td>\n",
       "      <td>3</td>\n",
       "      <td>Hirvonen, Mrs. Alexander (Helga E Lindqvist)</td>\n",
       "      <td>female</td>\n",
       "      <td>22.0</td>\n",
       "      <td>1</td>\n",
       "      <td>1</td>\n",
       "      <td>3101298</td>\n",
       "      <td>12.2875</td>\n",
       "      <td>NaN</td>\n",
       "      <td>S</td>\n",
       "    </tr>\n",
       "  </tbody>\n",
       "</table>\n",
       "</div>"
      ],
      "text/plain": [
       "   PassengerId  Pclass                                          Name     Sex  \\\n",
       "0          892       3                              Kelly, Mr. James    male   \n",
       "1          893       3              Wilkes, Mrs. James (Ellen Needs)  female   \n",
       "2          894       2                     Myles, Mr. Thomas Francis    male   \n",
       "3          895       3                              Wirz, Mr. Albert    male   \n",
       "4          896       3  Hirvonen, Mrs. Alexander (Helga E Lindqvist)  female   \n",
       "\n",
       "    Age  SibSp  Parch   Ticket     Fare Cabin Embarked  \n",
       "0  34.5      0      0   330911   7.8292   NaN        Q  \n",
       "1  47.0      1      0   363272   7.0000   NaN        S  \n",
       "2  62.0      0      0   240276   9.6875   NaN        Q  \n",
       "3  27.0      0      0   315154   8.6625   NaN        S  \n",
       "4  22.0      1      1  3101298  12.2875   NaN        S  "
      ]
     },
     "execution_count": 3,
     "metadata": {},
     "output_type": "execute_result"
    }
   ],
   "source": [
    "test_data = pd.read_csv(\"/kaggle/input/titanic/test.csv\")\n",
    "test_data.head()"
   ]
  },
  {
   "cell_type": "code",
   "execution_count": 4,
   "id": "a95469a9",
   "metadata": {
    "execution": {
     "iopub.execute_input": "2024-04-05T06:35:23.750885Z",
     "iopub.status.busy": "2024-04-05T06:35:23.750041Z",
     "iopub.status.idle": "2024-04-05T06:35:23.765372Z",
     "shell.execute_reply": "2024-04-05T06:35:23.764107Z"
    },
    "papermill": {
     "duration": 0.02774,
     "end_time": "2024-04-05T06:35:23.768124",
     "exception": false,
     "start_time": "2024-04-05T06:35:23.740384",
     "status": "completed"
    },
    "tags": []
   },
   "outputs": [
    {
     "data": {
      "text/html": [
       "<div>\n",
       "<style scoped>\n",
       "    .dataframe tbody tr th:only-of-type {\n",
       "        vertical-align: middle;\n",
       "    }\n",
       "\n",
       "    .dataframe tbody tr th {\n",
       "        vertical-align: top;\n",
       "    }\n",
       "\n",
       "    .dataframe thead th {\n",
       "        text-align: right;\n",
       "    }\n",
       "</style>\n",
       "<table border=\"1\" class=\"dataframe\">\n",
       "  <thead>\n",
       "    <tr style=\"text-align: right;\">\n",
       "      <th></th>\n",
       "      <th>PassengerId</th>\n",
       "      <th>Survived</th>\n",
       "    </tr>\n",
       "  </thead>\n",
       "  <tbody>\n",
       "    <tr>\n",
       "      <th>0</th>\n",
       "      <td>892</td>\n",
       "      <td>0</td>\n",
       "    </tr>\n",
       "    <tr>\n",
       "      <th>1</th>\n",
       "      <td>893</td>\n",
       "      <td>1</td>\n",
       "    </tr>\n",
       "    <tr>\n",
       "      <th>2</th>\n",
       "      <td>894</td>\n",
       "      <td>0</td>\n",
       "    </tr>\n",
       "    <tr>\n",
       "      <th>3</th>\n",
       "      <td>895</td>\n",
       "      <td>0</td>\n",
       "    </tr>\n",
       "    <tr>\n",
       "      <th>4</th>\n",
       "      <td>896</td>\n",
       "      <td>1</td>\n",
       "    </tr>\n",
       "  </tbody>\n",
       "</table>\n",
       "</div>"
      ],
      "text/plain": [
       "   PassengerId  Survived\n",
       "0          892         0\n",
       "1          893         1\n",
       "2          894         0\n",
       "3          895         0\n",
       "4          896         1"
      ]
     },
     "execution_count": 4,
     "metadata": {},
     "output_type": "execute_result"
    }
   ],
   "source": [
    "submit = pd.read_csv(\"/kaggle/input/titanic/gender_submission.csv\")\n",
    "submit.head()"
   ]
  },
  {
   "cell_type": "code",
   "execution_count": 5,
   "id": "8ebe3c57",
   "metadata": {
    "execution": {
     "iopub.execute_input": "2024-04-05T06:35:23.786383Z",
     "iopub.status.busy": "2024-04-05T06:35:23.785932Z",
     "iopub.status.idle": "2024-04-05T06:35:25.215849Z",
     "shell.execute_reply": "2024-04-05T06:35:25.214670Z"
    },
    "papermill": {
     "duration": 1.442726,
     "end_time": "2024-04-05T06:35:25.218925",
     "exception": false,
     "start_time": "2024-04-05T06:35:23.776199",
     "status": "completed"
    },
    "tags": []
   },
   "outputs": [
    {
     "name": "stdout",
     "output_type": "stream",
     "text": [
      "['Age', 'Cabin', 'Embarked']\n"
     ]
    }
   ],
   "source": [
    "import numpy as np\n",
    "import pandas as pd\n",
    "from sklearn.model_selection import train_test_split\n",
    "from sklearn.preprocessing import StandardScaler, OneHotEncoder\n",
    "from sklearn.compose import make_column_transformer\n",
    "from sklearn.pipeline import make_pipeline\n",
    "\n",
    "# Load the dataset\n",
    "train_data = pd.read_csv(\"/kaggle/input/titanic/train.csv\")\n",
    "test_data = pd.read_csv(\"/kaggle/input/titanic/test.csv\")\n",
    "\n",
    "# Select features and target\n",
    "features = ['Pclass', 'Sex', 'Name', 'Age', 'SibSp', 'Parch', 'Fare', 'Cabin', 'Embarked']\n",
    "X_features = train_data[features]\n",
    "X_labels = train_data['Survived']\n",
    "\n",
    "# check which columsn have null values\n",
    "naColumns = X_features.columns[X_features.isna().any()].tolist()\n",
    "print(naColumns)"
   ]
  },
  {
   "cell_type": "code",
   "execution_count": 6,
   "id": "742d1dc7",
   "metadata": {
    "execution": {
     "iopub.execute_input": "2024-04-05T06:35:25.238360Z",
     "iopub.status.busy": "2024-04-05T06:35:25.237201Z",
     "iopub.status.idle": "2024-04-05T06:35:25.260146Z",
     "shell.execute_reply": "2024-04-05T06:35:25.258780Z"
    },
    "papermill": {
     "duration": 0.035803,
     "end_time": "2024-04-05T06:35:25.263184",
     "exception": false,
     "start_time": "2024-04-05T06:35:25.227381",
     "status": "completed"
    },
    "tags": []
   },
   "outputs": [
    {
     "name": "stdout",
     "output_type": "stream",
     "text": [
      "[]\n"
     ]
    }
   ],
   "source": [
    "# Fill missing values\n",
    "X_features.loc[:,'Age'] = pd.to_numeric(X_features['Age'], errors='coerce')\n",
    "X_features.loc[X_features.Age.isna(), 'Age'] = X_features['Age'].median()\n",
    "\n",
    "X_features.loc[X_features.Embarked.isna(), 'Embarked'] = X_features['Embarked'].mode()[0]\n",
    "X_features.loc[X_features.Cabin.isna(), 'Cabin'] = X_features['Cabin'].mode()[0]\n",
    "# check which columsn have null values\n",
    "naColumns = X_features.columns[X_features.isna().any()].tolist()\n",
    "print(naColumns)"
   ]
  },
  {
   "cell_type": "code",
   "execution_count": 7,
   "id": "956ac700",
   "metadata": {
    "execution": {
     "iopub.execute_input": "2024-04-05T06:35:25.281995Z",
     "iopub.status.busy": "2024-04-05T06:35:25.281181Z",
     "iopub.status.idle": "2024-04-05T06:35:25.286651Z",
     "shell.execute_reply": "2024-04-05T06:35:25.285502Z"
    },
    "papermill": {
     "duration": 0.017663,
     "end_time": "2024-04-05T06:35:25.289031",
     "exception": false,
     "start_time": "2024-04-05T06:35:25.271368",
     "status": "completed"
    },
    "tags": []
   },
   "outputs": [],
   "source": [
    "# Preprocessing for numerical and categorical data\n",
    "preprocessor = make_column_transformer(\n",
    "    (StandardScaler(), ['Age', 'Fare', 'SibSp', 'Parch']),\n",
    "    (OneHotEncoder(), ['Pclass', 'Sex', 'Embarked'])\n",
    ")"
   ]
  },
  {
   "cell_type": "code",
   "execution_count": 8,
   "id": "30f3a52f",
   "metadata": {
    "execution": {
     "iopub.execute_input": "2024-04-05T06:35:25.307834Z",
     "iopub.status.busy": "2024-04-05T06:35:25.307037Z",
     "iopub.status.idle": "2024-04-05T06:35:25.338200Z",
     "shell.execute_reply": "2024-04-05T06:35:25.336907Z"
    },
    "papermill": {
     "duration": 0.04385,
     "end_time": "2024-04-05T06:35:25.341140",
     "exception": false,
     "start_time": "2024-04-05T06:35:25.297290",
     "status": "completed"
    },
    "tags": []
   },
   "outputs": [
    {
     "data": {
      "text/plain": [
       "numpy.ndarray"
      ]
     },
     "execution_count": 8,
     "metadata": {},
     "output_type": "execute_result"
    }
   ],
   "source": [
    "# Split the data\n",
    "features_train, features_valid, labels_train, labels_valid = train_test_split(X_features, X_labels, test_size=0.2, random_state=0)\n",
    "\n",
    "features_train.head()\n",
    "type(features_train)\n",
    "\n",
    "# Create a preprocessing and modeling pipeline\n",
    "pipeline = make_pipeline(preprocessor)\n",
    "features_train = pipeline.fit_transform(features_train)\n",
    "features_valid = pipeline.transform(features_valid)\n",
    "\n",
    "# type(features_train)\n",
    "type(features_valid)"
   ]
  },
  {
   "cell_type": "code",
   "execution_count": 9,
   "id": "d1a9d8e4",
   "metadata": {
    "execution": {
     "iopub.execute_input": "2024-04-05T06:35:25.360248Z",
     "iopub.status.busy": "2024-04-05T06:35:25.359395Z",
     "iopub.status.idle": "2024-04-05T06:35:39.523175Z",
     "shell.execute_reply": "2024-04-05T06:35:39.522232Z"
    },
    "papermill": {
     "duration": 14.176349,
     "end_time": "2024-04-05T06:35:39.525856",
     "exception": false,
     "start_time": "2024-04-05T06:35:25.349507",
     "status": "completed"
    },
    "tags": []
   },
   "outputs": [
    {
     "name": "stderr",
     "output_type": "stream",
     "text": [
      "2024-04-05 06:35:27.465900: E external/local_xla/xla/stream_executor/cuda/cuda_dnn.cc:9261] Unable to register cuDNN factory: Attempting to register factory for plugin cuDNN when one has already been registered\n",
      "2024-04-05 06:35:27.466105: E external/local_xla/xla/stream_executor/cuda/cuda_fft.cc:607] Unable to register cuFFT factory: Attempting to register factory for plugin cuFFT when one has already been registered\n",
      "2024-04-05 06:35:27.602693: E external/local_xla/xla/stream_executor/cuda/cuda_blas.cc:1515] Unable to register cuBLAS factory: Attempting to register factory for plugin cuBLAS when one has already been registered\n"
     ]
    },
    {
     "data": {
      "text/html": [
       "<pre style=\"white-space:pre;overflow-x:auto;line-height:normal;font-family:Menlo,'DejaVu Sans Mono',consolas,'Courier New',monospace\"><span style=\"font-weight: bold\">Model: \"sequential\"</span>\n",
       "</pre>\n"
      ],
      "text/plain": [
       "\u001b[1mModel: \"sequential\"\u001b[0m\n"
      ]
     },
     "metadata": {},
     "output_type": "display_data"
    },
    {
     "data": {
      "text/html": [
       "<pre style=\"white-space:pre;overflow-x:auto;line-height:normal;font-family:Menlo,'DejaVu Sans Mono',consolas,'Courier New',monospace\">┏━━━━━━━━━━━━━━━━━━━━━━━━━━━━━━━━━┳━━━━━━━━━━━━━━━━━━━━━━━━┳━━━━━━━━━━━━━━━┓\n",
       "┃<span style=\"font-weight: bold\"> Layer (type)                    </span>┃<span style=\"font-weight: bold\"> Output Shape           </span>┃<span style=\"font-weight: bold\">       Param # </span>┃\n",
       "┡━━━━━━━━━━━━━━━━━━━━━━━━━━━━━━━━━╇━━━━━━━━━━━━━━━━━━━━━━━━╇━━━━━━━━━━━━━━━┩\n",
       "│ dense (<span style=\"color: #0087ff; text-decoration-color: #0087ff\">Dense</span>)                   │ ?                      │   <span style=\"color: #00af00; text-decoration-color: #00af00\">0</span> (unbuilt) │\n",
       "├─────────────────────────────────┼────────────────────────┼───────────────┤\n",
       "│ dropout (<span style=\"color: #0087ff; text-decoration-color: #0087ff\">Dropout</span>)               │ ?                      │             <span style=\"color: #00af00; text-decoration-color: #00af00\">0</span> │\n",
       "├─────────────────────────────────┼────────────────────────┼───────────────┤\n",
       "│ dense_1 (<span style=\"color: #0087ff; text-decoration-color: #0087ff\">Dense</span>)                 │ ?                      │   <span style=\"color: #00af00; text-decoration-color: #00af00\">0</span> (unbuilt) │\n",
       "├─────────────────────────────────┼────────────────────────┼───────────────┤\n",
       "│ dropout_1 (<span style=\"color: #0087ff; text-decoration-color: #0087ff\">Dropout</span>)             │ ?                      │             <span style=\"color: #00af00; text-decoration-color: #00af00\">0</span> │\n",
       "├─────────────────────────────────┼────────────────────────┼───────────────┤\n",
       "│ dense_2 (<span style=\"color: #0087ff; text-decoration-color: #0087ff\">Dense</span>)                 │ ?                      │   <span style=\"color: #00af00; text-decoration-color: #00af00\">0</span> (unbuilt) │\n",
       "└─────────────────────────────────┴────────────────────────┴───────────────┘\n",
       "</pre>\n"
      ],
      "text/plain": [
       "┏━━━━━━━━━━━━━━━━━━━━━━━━━━━━━━━━━┳━━━━━━━━━━━━━━━━━━━━━━━━┳━━━━━━━━━━━━━━━┓\n",
       "┃\u001b[1m \u001b[0m\u001b[1mLayer (type)                   \u001b[0m\u001b[1m \u001b[0m┃\u001b[1m \u001b[0m\u001b[1mOutput Shape          \u001b[0m\u001b[1m \u001b[0m┃\u001b[1m \u001b[0m\u001b[1m      Param #\u001b[0m\u001b[1m \u001b[0m┃\n",
       "┡━━━━━━━━━━━━━━━━━━━━━━━━━━━━━━━━━╇━━━━━━━━━━━━━━━━━━━━━━━━╇━━━━━━━━━━━━━━━┩\n",
       "│ dense (\u001b[38;5;33mDense\u001b[0m)                   │ ?                      │   \u001b[38;5;34m0\u001b[0m (unbuilt) │\n",
       "├─────────────────────────────────┼────────────────────────┼───────────────┤\n",
       "│ dropout (\u001b[38;5;33mDropout\u001b[0m)               │ ?                      │             \u001b[38;5;34m0\u001b[0m │\n",
       "├─────────────────────────────────┼────────────────────────┼───────────────┤\n",
       "│ dense_1 (\u001b[38;5;33mDense\u001b[0m)                 │ ?                      │   \u001b[38;5;34m0\u001b[0m (unbuilt) │\n",
       "├─────────────────────────────────┼────────────────────────┼───────────────┤\n",
       "│ dropout_1 (\u001b[38;5;33mDropout\u001b[0m)             │ ?                      │             \u001b[38;5;34m0\u001b[0m │\n",
       "├─────────────────────────────────┼────────────────────────┼───────────────┤\n",
       "│ dense_2 (\u001b[38;5;33mDense\u001b[0m)                 │ ?                      │   \u001b[38;5;34m0\u001b[0m (unbuilt) │\n",
       "└─────────────────────────────────┴────────────────────────┴───────────────┘\n"
      ]
     },
     "metadata": {},
     "output_type": "display_data"
    },
    {
     "data": {
      "text/html": [
       "<pre style=\"white-space:pre;overflow-x:auto;line-height:normal;font-family:Menlo,'DejaVu Sans Mono',consolas,'Courier New',monospace\"><span style=\"font-weight: bold\"> Total params: </span><span style=\"color: #00af00; text-decoration-color: #00af00\">0</span> (0.00 B)\n",
       "</pre>\n"
      ],
      "text/plain": [
       "\u001b[1m Total params: \u001b[0m\u001b[38;5;34m0\u001b[0m (0.00 B)\n"
      ]
     },
     "metadata": {},
     "output_type": "display_data"
    },
    {
     "data": {
      "text/html": [
       "<pre style=\"white-space:pre;overflow-x:auto;line-height:normal;font-family:Menlo,'DejaVu Sans Mono',consolas,'Courier New',monospace\"><span style=\"font-weight: bold\"> Trainable params: </span><span style=\"color: #00af00; text-decoration-color: #00af00\">0</span> (0.00 B)\n",
       "</pre>\n"
      ],
      "text/plain": [
       "\u001b[1m Trainable params: \u001b[0m\u001b[38;5;34m0\u001b[0m (0.00 B)\n"
      ]
     },
     "metadata": {},
     "output_type": "display_data"
    },
    {
     "data": {
      "text/html": [
       "<pre style=\"white-space:pre;overflow-x:auto;line-height:normal;font-family:Menlo,'DejaVu Sans Mono',consolas,'Courier New',monospace\"><span style=\"font-weight: bold\"> Non-trainable params: </span><span style=\"color: #00af00; text-decoration-color: #00af00\">0</span> (0.00 B)\n",
       "</pre>\n"
      ],
      "text/plain": [
       "\u001b[1m Non-trainable params: \u001b[0m\u001b[38;5;34m0\u001b[0m (0.00 B)\n"
      ]
     },
     "metadata": {},
     "output_type": "display_data"
    }
   ],
   "source": [
    "from tensorflow import keras\n",
    "from tensorflow.keras import layers\n",
    "\n",
    "# Build the model\n",
    "model = keras.Sequential([\n",
    "    layers.Dense(64, activation='relu'),\n",
    "    layers.Dropout(0.3),\n",
    "    layers.Dense(32, activation='relu'),\n",
    "    layers.Dropout(0.3),\n",
    "    layers.Dense(1, activation='sigmoid')\n",
    "])\n",
    "\n",
    "# Compile the model\n",
    "model.compile(optimizer='adam',\n",
    "              loss='binary_crossentropy',\n",
    "              metrics=['accuracy'])\n",
    "\n",
    "# Model summary\n",
    "model.summary()"
   ]
  },
  {
   "cell_type": "code",
   "execution_count": 10,
   "id": "1bb00f4b",
   "metadata": {
    "execution": {
     "iopub.execute_input": "2024-04-05T06:35:39.546568Z",
     "iopub.status.busy": "2024-04-05T06:35:39.546111Z",
     "iopub.status.idle": "2024-04-05T06:35:45.522065Z",
     "shell.execute_reply": "2024-04-05T06:35:45.520791Z"
    },
    "papermill": {
     "duration": 5.990034,
     "end_time": "2024-04-05T06:35:45.525183",
     "exception": false,
     "start_time": "2024-04-05T06:35:39.535149",
     "status": "completed"
    },
    "tags": []
   },
   "outputs": [
    {
     "name": "stdout",
     "output_type": "stream",
     "text": [
      "Epoch 1/100\n",
      "\u001b[1m23/23\u001b[0m \u001b[32m━━━━━━━━━━━━━━━━━━━━\u001b[0m\u001b[37m\u001b[0m \u001b[1m2s\u001b[0m 12ms/step - accuracy: 0.6740 - loss: 0.6314 - val_accuracy: 0.7486 - val_loss: 0.5394\n",
      "Epoch 2/100\n",
      "\u001b[1m23/23\u001b[0m \u001b[32m━━━━━━━━━━━━━━━━━━━━\u001b[0m\u001b[37m\u001b[0m \u001b[1m0s\u001b[0m 4ms/step - accuracy: 0.7207 - loss: 0.5696 - val_accuracy: 0.7933 - val_loss: 0.4882\n",
      "Epoch 3/100\n",
      "\u001b[1m23/23\u001b[0m \u001b[32m━━━━━━━━━━━━━━━━━━━━\u001b[0m\u001b[37m\u001b[0m \u001b[1m0s\u001b[0m 3ms/step - accuracy: 0.7902 - loss: 0.5090 - val_accuracy: 0.7933 - val_loss: 0.4625\n",
      "Epoch 4/100\n",
      "\u001b[1m23/23\u001b[0m \u001b[32m━━━━━━━━━━━━━━━━━━━━\u001b[0m\u001b[37m\u001b[0m \u001b[1m0s\u001b[0m 4ms/step - accuracy: 0.7764 - loss: 0.5256 - val_accuracy: 0.7877 - val_loss: 0.4406\n",
      "Epoch 5/100\n",
      "\u001b[1m23/23\u001b[0m \u001b[32m━━━━━━━━━━━━━━━━━━━━\u001b[0m\u001b[37m\u001b[0m \u001b[1m0s\u001b[0m 4ms/step - accuracy: 0.8069 - loss: 0.4839 - val_accuracy: 0.7933 - val_loss: 0.4237\n",
      "Epoch 6/100\n",
      "\u001b[1m23/23\u001b[0m \u001b[32m━━━━━━━━━━━━━━━━━━━━\u001b[0m\u001b[37m\u001b[0m \u001b[1m0s\u001b[0m 3ms/step - accuracy: 0.8114 - loss: 0.4974 - val_accuracy: 0.7989 - val_loss: 0.4188\n",
      "Epoch 7/100\n",
      "\u001b[1m23/23\u001b[0m \u001b[32m━━━━━━━━━━━━━━━━━━━━\u001b[0m\u001b[37m\u001b[0m \u001b[1m0s\u001b[0m 3ms/step - accuracy: 0.8049 - loss: 0.4891 - val_accuracy: 0.7933 - val_loss: 0.4098\n",
      "Epoch 8/100\n",
      "\u001b[1m23/23\u001b[0m \u001b[32m━━━━━━━━━━━━━━━━━━━━\u001b[0m\u001b[37m\u001b[0m \u001b[1m0s\u001b[0m 3ms/step - accuracy: 0.8072 - loss: 0.4465 - val_accuracy: 0.8045 - val_loss: 0.4017\n",
      "Epoch 9/100\n",
      "\u001b[1m23/23\u001b[0m \u001b[32m━━━━━━━━━━━━━━━━━━━━\u001b[0m\u001b[37m\u001b[0m \u001b[1m0s\u001b[0m 3ms/step - accuracy: 0.8230 - loss: 0.4614 - val_accuracy: 0.8045 - val_loss: 0.3996\n",
      "Epoch 10/100\n",
      "\u001b[1m23/23\u001b[0m \u001b[32m━━━━━━━━━━━━━━━━━━━━\u001b[0m\u001b[37m\u001b[0m \u001b[1m0s\u001b[0m 4ms/step - accuracy: 0.8017 - loss: 0.4583 - val_accuracy: 0.8045 - val_loss: 0.3982\n",
      "Epoch 11/100\n",
      "\u001b[1m23/23\u001b[0m \u001b[32m━━━━━━━━━━━━━━━━━━━━\u001b[0m\u001b[37m\u001b[0m \u001b[1m0s\u001b[0m 4ms/step - accuracy: 0.7914 - loss: 0.4672 - val_accuracy: 0.8101 - val_loss: 0.3959\n",
      "Epoch 12/100\n",
      "\u001b[1m23/23\u001b[0m \u001b[32m━━━━━━━━━━━━━━━━━━━━\u001b[0m\u001b[37m\u001b[0m \u001b[1m0s\u001b[0m 4ms/step - accuracy: 0.7693 - loss: 0.4954 - val_accuracy: 0.8101 - val_loss: 0.3953\n",
      "Epoch 13/100\n",
      "\u001b[1m23/23\u001b[0m \u001b[32m━━━━━━━━━━━━━━━━━━━━\u001b[0m\u001b[37m\u001b[0m \u001b[1m0s\u001b[0m 5ms/step - accuracy: 0.7943 - loss: 0.4834 - val_accuracy: 0.8156 - val_loss: 0.3948\n",
      "Epoch 14/100\n",
      "\u001b[1m23/23\u001b[0m \u001b[32m━━━━━━━━━━━━━━━━━━━━\u001b[0m\u001b[37m\u001b[0m \u001b[1m0s\u001b[0m 4ms/step - accuracy: 0.8290 - loss: 0.4278 - val_accuracy: 0.7989 - val_loss: 0.3962\n",
      "Epoch 15/100\n",
      "\u001b[1m23/23\u001b[0m \u001b[32m━━━━━━━━━━━━━━━━━━━━\u001b[0m\u001b[37m\u001b[0m \u001b[1m0s\u001b[0m 3ms/step - accuracy: 0.7932 - loss: 0.4826 - val_accuracy: 0.8045 - val_loss: 0.3968\n",
      "Epoch 16/100\n",
      "\u001b[1m23/23\u001b[0m \u001b[32m━━━━━━━━━━━━━━━━━━━━\u001b[0m\u001b[37m\u001b[0m \u001b[1m0s\u001b[0m 3ms/step - accuracy: 0.8164 - loss: 0.4700 - val_accuracy: 0.8101 - val_loss: 0.3949\n",
      "Epoch 17/100\n",
      "\u001b[1m23/23\u001b[0m \u001b[32m━━━━━━━━━━━━━━━━━━━━\u001b[0m\u001b[37m\u001b[0m \u001b[1m0s\u001b[0m 3ms/step - accuracy: 0.8310 - loss: 0.4149 - val_accuracy: 0.8101 - val_loss: 0.3955\n",
      "Epoch 18/100\n",
      "\u001b[1m23/23\u001b[0m \u001b[32m━━━━━━━━━━━━━━━━━━━━\u001b[0m\u001b[37m\u001b[0m \u001b[1m0s\u001b[0m 3ms/step - accuracy: 0.8242 - loss: 0.4115 - val_accuracy: 0.8101 - val_loss: 0.3920\n",
      "Epoch 19/100\n",
      "\u001b[1m23/23\u001b[0m \u001b[32m━━━━━━━━━━━━━━━━━━━━\u001b[0m\u001b[37m\u001b[0m \u001b[1m0s\u001b[0m 3ms/step - accuracy: 0.8112 - loss: 0.4643 - val_accuracy: 0.8101 - val_loss: 0.3928\n",
      "Epoch 20/100\n",
      "\u001b[1m23/23\u001b[0m \u001b[32m━━━━━━━━━━━━━━━━━━━━\u001b[0m\u001b[37m\u001b[0m \u001b[1m0s\u001b[0m 4ms/step - accuracy: 0.8251 - loss: 0.4287 - val_accuracy: 0.8045 - val_loss: 0.3910\n",
      "Epoch 21/100\n",
      "\u001b[1m23/23\u001b[0m \u001b[32m━━━━━━━━━━━━━━━━━━━━\u001b[0m\u001b[37m\u001b[0m \u001b[1m0s\u001b[0m 4ms/step - accuracy: 0.8214 - loss: 0.4173 - val_accuracy: 0.8156 - val_loss: 0.3911\n",
      "Epoch 22/100\n",
      "\u001b[1m23/23\u001b[0m \u001b[32m━━━━━━━━━━━━━━━━━━━━\u001b[0m\u001b[37m\u001b[0m \u001b[1m0s\u001b[0m 3ms/step - accuracy: 0.8105 - loss: 0.4454 - val_accuracy: 0.8156 - val_loss: 0.3925\n",
      "Epoch 23/100\n",
      "\u001b[1m23/23\u001b[0m \u001b[32m━━━━━━━━━━━━━━━━━━━━\u001b[0m\u001b[37m\u001b[0m \u001b[1m0s\u001b[0m 3ms/step - accuracy: 0.8363 - loss: 0.4232 - val_accuracy: 0.8156 - val_loss: 0.3893\n",
      "Epoch 24/100\n",
      "\u001b[1m23/23\u001b[0m \u001b[32m━━━━━━━━━━━━━━━━━━━━\u001b[0m\u001b[37m\u001b[0m \u001b[1m0s\u001b[0m 3ms/step - accuracy: 0.8139 - loss: 0.4444 - val_accuracy: 0.8212 - val_loss: 0.3870\n",
      "Epoch 25/100\n",
      "\u001b[1m23/23\u001b[0m \u001b[32m━━━━━━━━━━━━━━━━━━━━\u001b[0m\u001b[37m\u001b[0m \u001b[1m0s\u001b[0m 4ms/step - accuracy: 0.7956 - loss: 0.4491 - val_accuracy: 0.8212 - val_loss: 0.3871\n",
      "Epoch 26/100\n",
      "\u001b[1m23/23\u001b[0m \u001b[32m━━━━━━━━━━━━━━━━━━━━\u001b[0m\u001b[37m\u001b[0m \u001b[1m0s\u001b[0m 3ms/step - accuracy: 0.8450 - loss: 0.3994 - val_accuracy: 0.8268 - val_loss: 0.3901\n",
      "Epoch 27/100\n",
      "\u001b[1m23/23\u001b[0m \u001b[32m━━━━━━━━━━━━━━━━━━━━\u001b[0m\u001b[37m\u001b[0m \u001b[1m0s\u001b[0m 3ms/step - accuracy: 0.7990 - loss: 0.4619 - val_accuracy: 0.8156 - val_loss: 0.3914\n",
      "Epoch 28/100\n",
      "\u001b[1m23/23\u001b[0m \u001b[32m━━━━━━━━━━━━━━━━━━━━\u001b[0m\u001b[37m\u001b[0m \u001b[1m0s\u001b[0m 3ms/step - accuracy: 0.8351 - loss: 0.4121 - val_accuracy: 0.8212 - val_loss: 0.3893\n",
      "Epoch 29/100\n",
      "\u001b[1m23/23\u001b[0m \u001b[32m━━━━━━━━━━━━━━━━━━━━\u001b[0m\u001b[37m\u001b[0m \u001b[1m0s\u001b[0m 4ms/step - accuracy: 0.8245 - loss: 0.3924 - val_accuracy: 0.8268 - val_loss: 0.3897\n",
      "Epoch 30/100\n",
      "\u001b[1m23/23\u001b[0m \u001b[32m━━━━━━━━━━━━━━━━━━━━\u001b[0m\u001b[37m\u001b[0m \u001b[1m0s\u001b[0m 3ms/step - accuracy: 0.8366 - loss: 0.4325 - val_accuracy: 0.8212 - val_loss: 0.3915\n",
      "Epoch 31/100\n",
      "\u001b[1m23/23\u001b[0m \u001b[32m━━━━━━━━━━━━━━━━━━━━\u001b[0m\u001b[37m\u001b[0m \u001b[1m0s\u001b[0m 3ms/step - accuracy: 0.8238 - loss: 0.4033 - val_accuracy: 0.8212 - val_loss: 0.3902\n",
      "Epoch 32/100\n",
      "\u001b[1m23/23\u001b[0m \u001b[32m━━━━━━━━━━━━━━━━━━━━\u001b[0m\u001b[37m\u001b[0m \u001b[1m0s\u001b[0m 3ms/step - accuracy: 0.8186 - loss: 0.4152 - val_accuracy: 0.8212 - val_loss: 0.3938\n",
      "Epoch 33/100\n",
      "\u001b[1m23/23\u001b[0m \u001b[32m━━━━━━━━━━━━━━━━━━━━\u001b[0m\u001b[37m\u001b[0m \u001b[1m0s\u001b[0m 3ms/step - accuracy: 0.8117 - loss: 0.4286 - val_accuracy: 0.8268 - val_loss: 0.3910\n",
      "Epoch 34/100\n",
      "\u001b[1m23/23\u001b[0m \u001b[32m━━━━━━━━━━━━━━━━━━━━\u001b[0m\u001b[37m\u001b[0m \u001b[1m0s\u001b[0m 3ms/step - accuracy: 0.8366 - loss: 0.4009 - val_accuracy: 0.8156 - val_loss: 0.3915\n"
     ]
    }
   ],
   "source": [
    "# Train the model\n",
    "history = model.fit(\n",
    "    features_train, labels_train,\n",
    "    validation_data=(features_valid, labels_valid),\n",
    "    batch_size=32,\n",
    "    epochs=100,\n",
    "    callbacks=[keras.callbacks.EarlyStopping(patience=10, restore_best_weights=True)]\n",
    ")"
   ]
  },
  {
   "cell_type": "code",
   "execution_count": 11,
   "id": "ea8c198a",
   "metadata": {
    "execution": {
     "iopub.execute_input": "2024-04-05T06:35:45.566583Z",
     "iopub.status.busy": "2024-04-05T06:35:45.566090Z",
     "iopub.status.idle": "2024-04-05T06:35:45.665369Z",
     "shell.execute_reply": "2024-04-05T06:35:45.664052Z"
    },
    "papermill": {
     "duration": 0.12246,
     "end_time": "2024-04-05T06:35:45.667991",
     "exception": false,
     "start_time": "2024-04-05T06:35:45.545531",
     "status": "completed"
    },
    "tags": []
   },
   "outputs": [
    {
     "name": "stdout",
     "output_type": "stream",
     "text": [
      "\u001b[1m6/6\u001b[0m \u001b[32m━━━━━━━━━━━━━━━━━━━━\u001b[0m\u001b[37m\u001b[0m \u001b[1m0s\u001b[0m 2ms/step - accuracy: 0.8299 - loss: 0.3698 \n",
      "Validation accuracy: 82.12%\n"
     ]
    }
   ],
   "source": [
    "loss, accuracy = model.evaluate(features_valid, labels_valid)\n",
    "print(\"Validation accuracy: {:.2f}%\".format(accuracy * 100))"
   ]
  },
  {
   "cell_type": "code",
   "execution_count": 12,
   "id": "4717ae6f",
   "metadata": {
    "execution": {
     "iopub.execute_input": "2024-04-05T06:35:45.708614Z",
     "iopub.status.busy": "2024-04-05T06:35:45.708118Z",
     "iopub.status.idle": "2024-04-05T06:35:45.722952Z",
     "shell.execute_reply": "2024-04-05T06:35:45.720326Z"
    },
    "papermill": {
     "duration": 0.039384,
     "end_time": "2024-04-05T06:35:45.726547",
     "exception": false,
     "start_time": "2024-04-05T06:35:45.687163",
     "status": "completed"
    },
    "tags": []
   },
   "outputs": [
    {
     "name": "stdout",
     "output_type": "stream",
     "text": [
      "     Pclass     Sex                                          Name   Age  \\\n",
      "0         3    male                              Kelly, Mr. James  34.5   \n",
      "1         3  female              Wilkes, Mrs. James (Ellen Needs)  47.0   \n",
      "2         2    male                     Myles, Mr. Thomas Francis  62.0   \n",
      "3         3    male                              Wirz, Mr. Albert  27.0   \n",
      "4         3  female  Hirvonen, Mrs. Alexander (Helga E Lindqvist)  22.0   \n",
      "..      ...     ...                                           ...   ...   \n",
      "413       3    male                            Spector, Mr. Woolf   NaN   \n",
      "414       1  female                  Oliva y Ocana, Dona. Fermina  39.0   \n",
      "415       3    male                  Saether, Mr. Simon Sivertsen  38.5   \n",
      "416       3    male                           Ware, Mr. Frederick   NaN   \n",
      "417       3    male                      Peter, Master. Michael J   NaN   \n",
      "\n",
      "     SibSp  Parch      Fare Cabin Embarked  \n",
      "0        0      0    7.8292   NaN        Q  \n",
      "1        1      0    7.0000   NaN        S  \n",
      "2        0      0    9.6875   NaN        Q  \n",
      "3        0      0    8.6625   NaN        S  \n",
      "4        1      1   12.2875   NaN        S  \n",
      "..     ...    ...       ...   ...      ...  \n",
      "413      0      0    8.0500   NaN        S  \n",
      "414      0      0  108.9000  C105        C  \n",
      "415      0      0    7.2500   NaN        S  \n",
      "416      0      0    8.0500   NaN        S  \n",
      "417      1      1   22.3583   NaN        C  \n",
      "\n",
      "[418 rows x 9 columns]\n"
     ]
    }
   ],
   "source": [
    "test_data_features = test_data[features]\n",
    "#predictions = model.predict(test_test)\n",
    "print(test_data_features)"
   ]
  },
  {
   "cell_type": "code",
   "execution_count": 13,
   "id": "9f65b224",
   "metadata": {
    "execution": {
     "iopub.execute_input": "2024-04-05T06:35:45.769251Z",
     "iopub.status.busy": "2024-04-05T06:35:45.768727Z",
     "iopub.status.idle": "2024-04-05T06:35:45.786002Z",
     "shell.execute_reply": "2024-04-05T06:35:45.784620Z"
    },
    "papermill": {
     "duration": 0.042139,
     "end_time": "2024-04-05T06:35:45.789365",
     "exception": false,
     "start_time": "2024-04-05T06:35:45.747226",
     "status": "completed"
    },
    "tags": []
   },
   "outputs": [
    {
     "name": "stdout",
     "output_type": "stream",
     "text": [
      "[]\n"
     ]
    }
   ],
   "source": [
    "# Fill missing values\n",
    "test_data_features.loc[test_data_features.Age.isna(), 'Age'] = test_data_features['Age'].median()\n",
    "test_data_features.loc[test_data_features.Fare.isna(), 'Fare'] = test_data_features['Fare'].median()\n",
    "test_data_features.loc[test_data_features.Embarked.isna(), 'Embarked'] = test_data_features['Embarked'].mode()[0]\n",
    "test_data_features.loc[test_data_features.Cabin.isna(), 'Cabin'] = test_data_features['Cabin'].mode()[0]\n",
    "# check which columsn have null values\n",
    "naColumns = test_data_features.columns[test_data_features.isna().any()].tolist()\n",
    "print(naColumns)"
   ]
  },
  {
   "cell_type": "code",
   "execution_count": 14,
   "id": "e229bdb7",
   "metadata": {
    "execution": {
     "iopub.execute_input": "2024-04-05T06:35:45.830620Z",
     "iopub.status.busy": "2024-04-05T06:35:45.829774Z",
     "iopub.status.idle": "2024-04-05T06:35:46.034252Z",
     "shell.execute_reply": "2024-04-05T06:35:46.032825Z"
    },
    "papermill": {
     "duration": 0.228813,
     "end_time": "2024-04-05T06:35:46.037465",
     "exception": false,
     "start_time": "2024-04-05T06:35:45.808652",
     "status": "completed"
    },
    "tags": []
   },
   "outputs": [
    {
     "name": "stdout",
     "output_type": "stream",
     "text": [
      "\u001b[1m14/14\u001b[0m \u001b[32m━━━━━━━━━━━━━━━━━━━━\u001b[0m\u001b[37m\u001b[0m \u001b[1m0s\u001b[0m 4ms/step\n"
     ]
    }
   ],
   "source": [
    "\n",
    "test_data_features_array = pipeline.transform(test_data_features)\n",
    "predictions = model.predict(test_data_features_array)"
   ]
  },
  {
   "cell_type": "code",
   "execution_count": 15,
   "id": "1706d5d6",
   "metadata": {
    "execution": {
     "iopub.execute_input": "2024-04-05T06:35:46.079534Z",
     "iopub.status.busy": "2024-04-05T06:35:46.079059Z",
     "iopub.status.idle": "2024-04-05T06:35:46.132750Z",
     "shell.execute_reply": "2024-04-05T06:35:46.131390Z"
    },
    "papermill": {
     "duration": 0.080387,
     "end_time": "2024-04-05T06:35:46.137812",
     "exception": false,
     "start_time": "2024-04-05T06:35:46.057425",
     "status": "completed"
    },
    "tags": []
   },
   "outputs": [
    {
     "name": "stdout",
     "output_type": "stream",
     "text": [
      "Index 0: [0.0926135]\n",
      "Index 1: [0.2861439]\n",
      "Index 2: [0.05064818]\n",
      "Index 3: [0.11944515]\n",
      "Index 4: [0.5325297]\n",
      "Index 5: [0.17278355]\n",
      "Index 6: [0.7897046]\n",
      "Index 7: [0.24011083]\n",
      "Index 8: [0.72135574]\n",
      "Index 9: [0.11227312]\n",
      "Index 10: [0.11859364]\n",
      "Index 11: [0.23239425]\n",
      "Index 12: [0.94048125]\n",
      "Index 13: [0.0660352]\n",
      "Index 14: [0.93351287]\n",
      "Index 15: [0.92793936]\n",
      "Index 16: [0.11443063]\n",
      "Index 17: [0.18732734]\n",
      "Index 18: [0.37814215]\n",
      "Index 19: [0.50058925]\n",
      "Index 20: [0.38923767]\n",
      "Index 21: [0.29933417]\n",
      "Index 22: [0.92433244]\n",
      "Index 23: [0.5468588]\n",
      "Index 24: [0.9163027]\n",
      "Index 25: [0.06394044]\n",
      "Index 26: [0.9547673]\n",
      "Index 27: [0.17560434]\n",
      "Index 28: [0.26110154]\n",
      "Index 29: [0.11274834]\n",
      "Index 30: [0.08603699]\n",
      "Index 31: [0.1525877]\n",
      "Index 32: [0.33492213]\n",
      "Index 33: [0.44758263]\n",
      "Index 34: [0.45798796]\n",
      "Index 35: [0.20581615]\n",
      "Index 36: [0.4604168]\n",
      "Index 37: [0.53678876]\n",
      "Index 38: [0.12575606]\n",
      "Index 39: [0.16897625]\n",
      "Index 40: [0.11501105]\n",
      "Index 41: [0.3160962]\n",
      "Index 42: [0.08523271]\n",
      "Index 43: [0.8938754]\n",
      "Index 44: [0.9282281]\n",
      "Index 45: [0.12419488]\n",
      "Index 46: [0.34270445]\n",
      "Index 47: [0.1184774]\n",
      "Index 48: [0.9448542]\n",
      "Index 49: [0.39310098]\n",
      "Index 50: [0.41921082]\n",
      "Index 51: [0.19518802]\n",
      "Index 52: [0.8420589]\n",
      "Index 53: [0.94256455]\n",
      "Index 54: [0.19548696]\n",
      "Index 55: [0.04373273]\n",
      "Index 56: [0.09889873]\n",
      "Index 57: [0.12392396]\n",
      "Index 58: [0.11456852]\n",
      "Index 59: [0.9800525]\n",
      "Index 60: [0.15474193]\n",
      "Index 61: [0.11567599]\n",
      "Index 62: [0.14948025]\n",
      "Index 63: [0.83348393]\n",
      "Index 64: [0.5952108]\n",
      "Index 65: [0.90588415]\n",
      "Index 66: [0.8424223]\n",
      "Index 67: [0.2382202]\n",
      "Index 68: [0.36056343]\n",
      "Index 69: [0.7334527]\n",
      "Index 70: [0.8275961]\n",
      "Index 71: [0.13568956]\n",
      "Index 72: [0.437859]\n",
      "Index 73: [0.3649154]\n",
      "Index 74: [0.9773737]\n",
      "Index 75: [0.5340797]\n",
      "Index 76: [0.11876447]\n",
      "Index 77: [0.78389144]\n",
      "Index 78: [0.12091864]\n",
      "Index 79: [0.8275961]\n",
      "Index 80: [0.38815397]\n",
      "Index 81: [0.5563642]\n",
      "Index 82: [0.22171311]\n",
      "Index 83: [0.11859364]\n",
      "Index 84: [0.1603632]\n",
      "Index 85: [0.14372985]\n",
      "Index 86: [0.81344527]\n",
      "Index 87: [0.57538074]\n",
      "Index 88: [0.81320536]\n",
      "Index 89: [0.71496123]\n",
      "Index 90: [0.44817942]\n",
      "Index 91: [0.11845994]\n",
      "Index 92: [0.88427836]\n",
      "Index 93: [0.11876447]\n",
      "Index 94: [0.37844276]\n",
      "Index 95: [0.12406751]\n",
      "Index 96: [0.8676113]\n",
      "Index 97: [0.11269037]\n",
      "Index 98: [0.54534465]\n",
      "Index 99: [0.10339022]\n",
      "Index 100: [0.9402801]\n",
      "Index 101: [0.15867674]\n",
      "Index 102: [0.1184774]\n",
      "Index 103: [0.12140385]\n",
      "Index 104: [0.65001386]\n",
      "Index 105: [0.1308625]\n",
      "Index 106: [0.15503436]\n",
      "Index 107: [0.1184774]\n",
      "Index 108: [0.11950086]\n",
      "Index 109: [0.19314079]\n",
      "Index 110: [0.13249445]\n",
      "Index 111: [0.81325954]\n",
      "Index 112: [0.94263774]\n",
      "Index 113: [0.8402527]\n",
      "Index 114: [0.96678257]\n",
      "Index 115: [0.1846593]\n",
      "Index 116: [0.14671205]\n",
      "Index 117: [0.7406275]\n",
      "Index 118: [0.36933473]\n",
      "Index 119: [0.88614726]\n",
      "Index 120: [0.92982364]\n",
      "Index 121: [0.09933374]\n",
      "Index 122: [0.9487584]\n",
      "Index 123: [0.11485128]\n",
      "Index 124: [0.1184774]\n",
      "Index 125: [0.6912747]\n",
      "Index 126: [0.13229597]\n",
      "Index 127: [0.43643698]\n",
      "Index 128: [0.09401254]\n",
      "Index 129: [0.1270156]\n",
      "Index 130: [0.10546403]\n",
      "Index 131: [0.3175433]\n",
      "Index 132: [0.3765547]\n",
      "Index 133: [0.1335904]\n",
      "Index 134: [0.08070122]\n",
      "Index 135: [0.12681894]\n",
      "Index 136: [0.15038534]\n",
      "Index 137: [0.13571134]\n",
      "Index 138: [0.51188177]\n",
      "Index 139: [0.03962765]\n",
      "Index 140: [0.10300495]\n",
      "Index 141: [0.96122086]\n",
      "Index 142: [0.22578171]\n",
      "Index 143: [0.13883075]\n",
      "Index 144: [0.25317776]\n",
      "Index 145: [0.06512719]\n",
      "Index 146: [0.33480904]\n",
      "Index 147: [0.13256069]\n",
      "Index 148: [0.3160962]\n",
      "Index 149: [0.18048099]\n",
      "Index 150: [0.9593388]\n",
      "Index 151: [0.148655]\n",
      "Index 152: [0.05199536]\n",
      "Index 153: [0.38099572]\n",
      "Index 154: [0.06745551]\n",
      "Index 155: [0.12651391]\n",
      "Index 156: [0.9665234]\n",
      "Index 157: [0.51133716]\n",
      "Index 158: [0.25317776]\n",
      "Index 159: [0.56655407]\n",
      "Index 160: [0.8131743]\n",
      "Index 161: [0.37403637]\n",
      "Index 162: [0.90400624]\n",
      "Index 163: [0.11764453]\n",
      "Index 164: [0.09572177]\n",
      "Index 165: [0.5074818]\n",
      "Index 166: [0.34638146]\n",
      "Index 167: [0.18401398]\n",
      "Index 168: [0.9467723]\n",
      "Index 169: [0.5266071]\n",
      "Index 170: [0.11822178]\n",
      "Index 171: [0.14775863]\n",
      "Index 172: [0.1266386]\n",
      "Index 173: [0.14776427]\n",
      "Index 174: [0.04862652]\n",
      "Index 175: [0.95238984]\n",
      "Index 176: [0.92169446]\n",
      "Index 177: [0.38740462]\n",
      "Index 178: [0.8077567]\n",
      "Index 179: [0.7990594]\n",
      "Index 180: [0.12091864]\n",
      "Index 181: [0.37901878]\n",
      "Index 182: [0.9277327]\n",
      "Index 183: [0.1184774]\n",
      "Index 184: [0.97390217]\n",
      "Index 185: [0.09937346]\n",
      "Index 186: [0.9453157]\n",
      "Index 187: [0.10831517]\n",
      "Index 188: [0.01585865]\n",
      "Index 189: [0.09764528]\n",
      "Index 190: [0.12540594]\n",
      "Index 191: [0.31567448]\n",
      "Index 192: [0.25392923]\n",
      "Index 193: [0.05277944]\n",
      "Index 194: [0.7500155]\n",
      "Index 195: [0.103222]\n",
      "Index 196: [0.75619566]\n",
      "Index 197: [0.57472277]\n",
      "Index 198: [0.15420793]\n",
      "Index 199: [0.46060422]\n",
      "Index 200: [0.82626563]\n",
      "Index 201: [0.6001187]\n",
      "Index 202: [0.62261033]\n",
      "Index 203: [0.933683]\n",
      "Index 204: [0.14018552]\n",
      "Index 205: [0.36987376]\n",
      "Index 206: [0.74485046]\n",
      "Index 207: [0.14703694]\n",
      "Index 208: [0.94215846]\n",
      "Index 209: [0.12416607]\n",
      "Index 210: [0.11877105]\n",
      "Index 211: [0.11769692]\n",
      "Index 212: [0.27397197]\n",
      "Index 213: [0.6817651]\n",
      "Index 214: [0.07926329]\n",
      "Index 215: [0.26261896]\n",
      "Index 216: [0.81344527]\n",
      "Index 217: [0.32664755]\n",
      "Index 218: [0.9692593]\n",
      "Index 219: [0.11876447]\n",
      "Index 220: [0.906575]\n",
      "Index 221: [0.13585822]\n",
      "Index 222: [0.90888774]\n",
      "Index 223: [0.13558026]\n",
      "Index 224: [0.91048765]\n",
      "Index 225: [0.6164524]\n",
      "Index 226: [0.12950298]\n",
      "Index 227: [0.81320536]\n",
      "Index 228: [0.09161968]\n",
      "Index 229: [0.10547084]\n",
      "Index 230: [0.3052644]\n",
      "Index 231: [0.92159456]\n",
      "Index 232: [0.12522241]\n",
      "Index 233: [0.11858618]\n",
      "Index 234: [0.4471462]\n",
      "Index 235: [0.13932621]\n",
      "Index 236: [0.37241718]\n",
      "Index 237: [0.19547181]\n",
      "Index 238: [0.9202523]\n",
      "Index 239: [0.9641167]\n",
      "Index 240: [0.90835005]\n",
      "Index 241: [0.81032485]\n",
      "Index 242: [0.38989142]\n",
      "Index 243: [0.11858443]\n",
      "Index 244: [0.14683811]\n",
      "Index 245: [0.32781363]\n",
      "Index 246: [0.91327775]\n",
      "Index 247: [0.11851645]\n",
      "Index 248: [0.88614726]\n",
      "Index 249: [0.5780827]\n",
      "Index 250: [0.9532383]\n",
      "Index 251: [0.13940422]\n",
      "Index 252: [0.5873662]\n",
      "Index 253: [0.12830263]\n",
      "Index 254: [0.10565681]\n",
      "Index 255: [0.11822178]\n",
      "Index 256: [0.1184774]\n",
      "Index 257: [0.11567441]\n",
      "Index 258: [0.9159013]\n",
      "Index 259: [0.13555755]\n",
      "Index 260: [0.09232515]\n",
      "Index 261: [0.13564411]\n",
      "Index 262: [0.914029]\n",
      "Index 263: [0.73993903]\n",
      "Index 264: [0.17608392]\n",
      "Index 265: [0.11859364]\n",
      "Index 266: [0.29082367]\n",
      "Index 267: [0.11822178]\n",
      "Index 268: [0.4604168]\n",
      "Index 269: [0.15555415]\n",
      "Index 270: [0.36357793]\n",
      "Index 271: [0.1184774]\n",
      "Index 272: [0.9658889]\n",
      "Index 273: [0.6909295]\n",
      "Index 274: [0.14775863]\n",
      "Index 275: [0.89676255]\n",
      "Index 276: [0.12488328]\n",
      "Index 277: [0.10599215]\n",
      "Index 278: [0.13659763]\n",
      "Index 279: [0.1618337]\n",
      "Index 280: [0.5136132]\n",
      "Index 281: [0.44703335]\n",
      "Index 282: [0.81320536]\n",
      "Index 283: [0.730207]\n",
      "Index 284: [0.7348635]\n",
      "Index 285: [0.09626449]\n",
      "Index 286: [0.11790661]\n",
      "Index 287: [0.47167838]\n",
      "Index 288: [0.14776427]\n",
      "Index 289: [0.11876447]\n",
      "Index 290: [0.32676697]\n",
      "Index 291: [0.78760177]\n",
      "Index 292: [0.14776427]\n",
      "Index 293: [0.23722509]\n",
      "Index 294: [0.09791865]\n",
      "Index 295: [0.12152068]\n",
      "Index 296: [0.96568775]\n",
      "Index 297: [0.11274834]\n",
      "Index 298: [0.31236756]\n",
      "Index 299: [0.11262207]\n",
      "Index 300: [0.10522626]\n",
      "Index 301: [0.1951959]\n",
      "Index 302: [0.09795947]\n",
      "Index 303: [0.12763251]\n",
      "Index 304: [0.81320536]\n",
      "Index 305: [0.7493773]\n",
      "Index 306: [0.4301684]\n",
      "Index 307: [0.45040303]\n",
      "Index 308: [0.23614739]\n",
      "Index 309: [0.31852633]\n",
      "Index 310: [0.15042026]\n",
      "Index 311: [0.17944655]\n",
      "Index 312: [0.11824805]\n",
      "Index 313: [0.7238444]\n",
      "Index 314: [0.9716309]\n",
      "Index 315: [0.8459907]\n",
      "Index 316: [0.4943624]\n",
      "Index 317: [0.18616858]\n",
      "Index 318: [0.11854758]\n",
      "Index 319: [0.16097084]\n",
      "Index 320: [0.12140385]\n",
      "Index 321: [0.15889317]\n",
      "Index 322: [0.13571134]\n",
      "Index 323: [0.29366234]\n",
      "Index 324: [0.9679554]\n",
      "Index 325: [0.12874281]\n",
      "Index 326: [0.8944824]\n",
      "Index 327: [0.3639807]\n",
      "Index 328: [0.14795284]\n",
      "Index 329: [0.17217194]\n",
      "Index 330: [0.7993019]\n",
      "Index 331: [0.35517463]\n",
      "Index 332: [0.14775863]\n",
      "Index 333: [0.6284081]\n",
      "Index 334: [0.11859364]\n",
      "Index 335: [0.3036489]\n",
      "Index 336: [0.11530419]\n",
      "Index 337: [0.09292404]\n",
      "Index 338: [0.16081536]\n",
      "Index 339: [0.14776427]\n",
      "Index 340: [0.19470802]\n",
      "Index 341: [0.10505727]\n",
      "Index 342: [0.04241902]\n",
      "Index 343: [0.9862005]\n",
      "Index 344: [0.11701301]\n",
      "Index 345: [0.60152197]\n",
      "Index 346: [0.13571134]\n",
      "Index 347: [0.5806238]\n",
      "Index 348: [0.14951463]\n",
      "Index 349: [0.89776206]\n",
      "Index 350: [0.9361913]\n",
      "Index 351: [0.14018552]\n",
      "Index 352: [0.26318374]\n",
      "Index 353: [0.10139701]\n",
      "Index 354: [0.8019844]\n",
      "Index 355: [0.21874246]\n",
      "Index 356: [0.83138853]\n",
      "Index 357: [0.11857526]\n",
      "Index 358: [0.1184774]\n",
      "Index 359: [0.38584253]\n",
      "Index 360: [0.00570963]\n",
      "Index 361: [0.9425854]\n",
      "Index 362: [0.89776206]\n",
      "Index 363: [0.11944515]\n",
      "Index 364: [0.94686025]\n",
      "Index 365: [0.1289754]\n",
      "Index 366: [0.14373466]\n",
      "Index 367: [0.5992231]\n",
      "Index 368: [0.9329278]\n",
      "Index 369: [0.1832353]\n",
      "Index 370: [0.17973702]\n",
      "Index 371: [0.9716318]\n",
      "Index 372: [0.19849429]\n",
      "Index 373: [0.09035202]\n",
      "Index 374: [0.91082203]\n",
      "Index 375: [0.98121446]\n",
      "Index 376: [0.27393594]\n",
      "Index 377: [0.17065388]\n",
      "Index 378: [0.21380244]\n",
      "Index 379: [0.09236836]\n",
      "Index 380: [0.1184774]\n",
      "Index 381: [0.12316833]\n",
      "Index 382: [0.47968352]\n",
      "Index 383: [0.48852295]\n",
      "Index 384: [0.13087031]\n",
      "Index 385: [0.9242624]\n",
      "Index 386: [0.12673949]\n",
      "Index 387: [0.06745859]\n",
      "Index 388: [0.15495947]\n",
      "Index 389: [0.13166644]\n",
      "Index 390: [0.4114028]\n",
      "Index 391: [0.8987186]\n",
      "Index 392: [0.33905008]\n",
      "Index 393: [0.08364429]\n",
      "Index 394: [0.07134458]\n",
      "Index 395: [0.9305951]\n",
      "Index 396: [0.13336165]\n",
      "Index 397: [0.92989653]\n",
      "Index 398: [0.13227428]\n",
      "Index 399: [0.10333981]\n",
      "Index 400: [0.96146005]\n",
      "Index 401: [0.10673922]\n",
      "Index 402: [0.95397586]\n",
      "Index 403: [0.43429363]\n",
      "Index 404: [0.38737875]\n",
      "Index 405: [0.23947601]\n",
      "Index 406: [0.1609982]\n",
      "Index 407: [0.5025303]\n",
      "Index 408: [0.81315106]\n",
      "Index 409: [0.7271009]\n",
      "Index 410: [0.81320536]\n",
      "Index 411: [0.97192127]\n",
      "Index 412: [0.4471463]\n",
      "Index 413: [0.11876447]\n",
      "Index 414: [0.9701659]\n",
      "Index 415: [0.09056148]\n",
      "Index 416: [0.11876447]\n",
      "Index 417: [0.18131489]\n"
     ]
    }
   ],
   "source": [
    "# type(predictions)\n",
    "for index, value in enumerate(predictions):\n",
    "    print(f\"Index {index}: {value}\")"
   ]
  },
  {
   "cell_type": "code",
   "execution_count": 16,
   "id": "291acc18",
   "metadata": {
    "execution": {
     "iopub.execute_input": "2024-04-05T06:35:46.181300Z",
     "iopub.status.busy": "2024-04-05T06:35:46.180780Z",
     "iopub.status.idle": "2024-04-05T06:35:46.189886Z",
     "shell.execute_reply": "2024-04-05T06:35:46.188433Z"
    },
    "papermill": {
     "duration": 0.033602,
     "end_time": "2024-04-05T06:35:46.192383",
     "exception": false,
     "start_time": "2024-04-05T06:35:46.158781",
     "status": "completed"
    },
    "tags": []
   },
   "outputs": [
    {
     "name": "stdout",
     "output_type": "stream",
     "text": [
      "[0 0 0 0 1 0 1 0 1 0 0 0 1 0 1 1 0 0 0 1 0 0 1 1 1 0 1 0 0 0 0 0 0 0 0 0 0\n",
      " 1 0 0 0 0 0 1 1 0 0 0 1 0 0 0 1 1 0 0 0 0 0 1 0 0 0 1 1 1 1 0 0 1 1 0 0 0\n",
      " 1 1 0 1 0 1 0 1 0 0 0 0 1 1 1 1 0 0 1 0 0 0 1 0 1 0 1 0 0 0 1 0 0 0 0 0 0\n",
      " 1 1 1 1 0 0 1 0 1 1 0 1 0 0 1 0 0 0 0 0 0 0 0 0 0 0 0 1 0 0 1 0 0 0 0 0 0\n",
      " 0 0 1 0 0 0 0 0 1 1 0 1 1 0 1 0 0 1 0 0 1 1 0 0 0 0 0 1 1 0 1 1 0 0 1 0 1\n",
      " 0 1 0 0 0 0 0 0 0 1 0 1 1 0 0 1 1 1 1 0 0 1 0 1 0 0 0 0 1 0 0 1 0 1 0 1 0\n",
      " 1 0 1 1 0 1 0 0 0 1 0 0 0 0 0 0 1 1 1 1 0 0 0 0 1 0 1 1 1 0 1 0 0 0 0 0 1\n",
      " 0 0 0 1 1 0 0 0 0 0 0 0 0 1 1 0 1 0 0 0 0 1 0 1 1 1 0 0 0 0 0 0 1 0 0 0 0\n",
      " 1 0 0 0 0 0 0 0 1 1 0 0 0 0 0 0 0 1 1 1 0 0 0 0 0 0 0 0 1 0 1 0 0 0 1 0 0\n",
      " 1 0 0 0 0 0 0 0 0 0 1 0 1 0 1 0 1 1 0 0 0 1 0 1 0 0 0 0 1 1 0 1 0 0 1 1 0\n",
      " 0 1 0 0 1 1 0 0 0 0 0 0 0 0 0 1 0 0 0 0 0 1 0 0 0 1 0 1 0 0 1 0 1 0 0 0 0\n",
      " 1 1 1 1 1 0 0 1 0 0 0]\n"
     ]
    }
   ],
   "source": [
    "predictions = np.round(predictions).astype(int).reshape(-1)\n",
    "print(predictions)"
   ]
  },
  {
   "cell_type": "code",
   "execution_count": 17,
   "id": "e5804f9d",
   "metadata": {
    "execution": {
     "iopub.execute_input": "2024-04-05T06:35:46.237213Z",
     "iopub.status.busy": "2024-04-05T06:35:46.235936Z",
     "iopub.status.idle": "2024-04-05T06:35:46.247237Z",
     "shell.execute_reply": "2024-04-05T06:35:46.245919Z"
    },
    "papermill": {
     "duration": 0.037488,
     "end_time": "2024-04-05T06:35:46.250566",
     "exception": false,
     "start_time": "2024-04-05T06:35:46.213078",
     "status": "completed"
    },
    "tags": []
   },
   "outputs": [],
   "source": [
    "# Prepare submission\n",
    "submission = pd.DataFrame({'PassengerId': test_data['PassengerId'], 'Survived': predictions})\n",
    "submission.to_csv('submission.csv', index=False)"
   ]
  },
  {
   "cell_type": "code",
   "execution_count": 18,
   "id": "fa4910f7",
   "metadata": {
    "execution": {
     "iopub.execute_input": "2024-04-05T06:35:46.295658Z",
     "iopub.status.busy": "2024-04-05T06:35:46.295181Z",
     "iopub.status.idle": "2024-04-05T06:35:46.304082Z",
     "shell.execute_reply": "2024-04-05T06:35:46.302588Z"
    },
    "papermill": {
     "duration": 0.035291,
     "end_time": "2024-04-05T06:35:46.306665",
     "exception": false,
     "start_time": "2024-04-05T06:35:46.271374",
     "status": "completed"
    },
    "tags": []
   },
   "outputs": [
    {
     "name": "stdout",
     "output_type": "stream",
     "text": [
      "     PassengerId  Survived\n",
      "0            892         0\n",
      "1            893         0\n",
      "2            894         0\n",
      "3            895         0\n",
      "4            896         1\n",
      "..           ...       ...\n",
      "413         1305         0\n",
      "414         1306         1\n",
      "415         1307         0\n",
      "416         1308         0\n",
      "417         1309         0\n",
      "\n",
      "[418 rows x 2 columns]\n"
     ]
    }
   ],
   "source": [
    "print(submission)"
   ]
  },
  {
   "cell_type": "code",
   "execution_count": null,
   "id": "c08f943d",
   "metadata": {
    "papermill": {
     "duration": 0.020331,
     "end_time": "2024-04-05T06:35:46.347967",
     "exception": false,
     "start_time": "2024-04-05T06:35:46.327636",
     "status": "completed"
    },
    "tags": []
   },
   "outputs": [],
   "source": []
  }
 ],
 "metadata": {
  "kaggle": {
   "accelerator": "none",
   "dataSources": [
    {
     "databundleVersionId": 26502,
     "sourceId": 3136,
     "sourceType": "competition"
    }
   ],
   "dockerImageVersionId": 30673,
   "isGpuEnabled": false,
   "isInternetEnabled": true,
   "language": "python",
   "sourceType": "notebook"
  },
  "kernelspec": {
   "display_name": "Python 3",
   "language": "python",
   "name": "python3"
  },
  "language_info": {
   "codemirror_mode": {
    "name": "ipython",
    "version": 3
   },
   "file_extension": ".py",
   "mimetype": "text/x-python",
   "name": "python",
   "nbconvert_exporter": "python",
   "pygments_lexer": "ipython3",
   "version": "3.10.13"
  },
  "papermill": {
   "default_parameters": {},
   "duration": 28.877186,
   "end_time": "2024-04-05T06:35:48.197066",
   "environment_variables": {},
   "exception": null,
   "input_path": "__notebook__.ipynb",
   "output_path": "__notebook__.ipynb",
   "parameters": {},
   "start_time": "2024-04-05T06:35:19.319880",
   "version": "2.5.0"
  }
 },
 "nbformat": 4,
 "nbformat_minor": 5
}
